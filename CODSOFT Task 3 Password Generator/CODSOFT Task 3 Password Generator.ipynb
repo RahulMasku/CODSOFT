{
 "cells": [
  {
   "cell_type": "markdown",
   "id": "3d7bc191",
   "metadata": {},
   "source": [
    "## CodSoft Internship Program."
   ]
  },
  {
   "cell_type": "markdown",
   "id": "cf9b63dc",
   "metadata": {},
   "source": [
    "### TASK 3: Password Generator"
   ]
  },
  {
   "cell_type": "code",
   "execution_count": null,
   "id": "6ccc6aa3",
   "metadata": {},
   "outputs": [],
   "source": [
    "import random\n",
    "import string\n",
    "\n",
    "def generate_password(length):\n",
    "    characters = string.ascii_letters + string.digits + string.punctuation\n",
    "    password = ''.join(random.choice(characters) for _ in range(length))\n",
    "    return password\n",
    "\n",
    "# Example usage\n",
    "password_length = int(input(\"Enter the desired password length: \"))\n",
    "generated_password = generate_password(password_length)\n",
    "print(f\"Generated Password: {generated_password}\")\n"
   ]
  }
 ],
 "metadata": {
  "kernelspec": {
   "display_name": "Python 3 (ipykernel)",
   "language": "python",
   "name": "python3"
  },
  "language_info": {
   "codemirror_mode": {
    "name": "ipython",
    "version": 3
   },
   "file_extension": ".py",
   "mimetype": "text/x-python",
   "name": "python",
   "nbconvert_exporter": "python",
   "pygments_lexer": "ipython3",
   "version": "3.11.3"
  }
 },
 "nbformat": 4,
 "nbformat_minor": 5
}
